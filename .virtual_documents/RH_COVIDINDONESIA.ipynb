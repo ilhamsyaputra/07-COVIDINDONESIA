import requests
import pandas as pd
import matplotlib.pyplot as plt

read = requests.get('https://data.covid19.go.id/public/api/update.json')


data = read.json()
data.keys()


data['data']


data_update = data['update']
data_update.keys()


data_update['penambahan']


data_update['penambahan']['tanggal']


from datetime import datetime
tgl = datetime.strptime(data_update['penambahan']['tanggal'], '%Y-%m-%d')
tgl.strftime('%d %B %Y')


data_update['total']


data_update['harian']


# stelah di cek, data_update['harian'] berbentuk list dengan setiap elemennya adalah dictionary
len(data_update['harian'])


df = pd.DataFrame(data_update['harian'])


df.head()


df.info()


# ekstrak value dari dictionary
v_ekstrak = ['jumlah_meninggal', 'jumlah_sembuh', 'jumlah_positif', 'jumlah_dirawat', 
             'jumlah_positif_kum', 'jumlah_sembuh_kum', 'jumlah_meninggal_kum', 'jumlah_dirawat_kum']

for i in v_ekstrak:
    df[i] = (
        df[i]
        .apply(lambda x: x['value'])
    )

df.head()


# mengubah kolom dan menghapus kolom
df = (
    df
    .rename(columns={'key_as_string': 'date'})
    .drop(['key', 'doc_count'], axis=1)
)
df.head()


# konversi kolom date ke datetime object
df['date'] = pd.to_datetime(df['date'])
df.info()


populasi_indonesia = 269603400
df['persen_sembuh'] = df['jumlah_sembuh_kum'] / df['jumlah_positif_kum'] * 100
df['persen_meninggal'] = df['jumlah_meninggal_kum'] / df['jumlah_positif_kum'] * 100
df['persen_positif_populasi'] = df['jumlah_positif_kum'] / populasi_indonesia * 100
df.tail()


def plot_data(y, title):
    df.plot(
        x='date',
        y=y,
        figsize=(12,6),
        title=title,
        legend=False,
        xlabel='',
        grid=True
    )


plot_data('jumlah_positif', 'Perkambangan Kasus Positif Covid-19 Terkonfirmasi Per-Hari')


plot_data('jumlah_sembuh', 'Perkembangan Kasus Sembuh Per-Hari')


plot_data('jumlah_meninggal', 'Perkembangan Kasus Meninggal Per-Hari')


# cek status pertambahan per-hari
def status_hari(status):
    jumlah_hari = df.shape[0]

    return df[status][jumlah_hari-1]


status_hari('jumlah_positif')


status_hari('jumlah_sembuh')


status_hari('jumlah_meninggal')


# kasus aktif
status_hari('jumlah_dirawat')


options=[
         {'label': 'Aceh', 'value': 'Aceh'},
         {'label': 'Bali', 'value': 'Bali'},
         {'label': 'Kepulauan Bangka Belitung', 'value': 'BangkaBelitung'},
         {'label': 'Banten', 'value': 'Banten'},
         {'label': 'Bengkulu', 'value': 'Bengkulu'},
         {'label': 'Daerah Istimewa Yogyakarta', 'value': 'DIYogyakarta'},
         {'label': 'DKI Jakarta', 'value': 'DKIJakarta'},
         {'label': 'Gorontalo', 'value': 'Gorontalo'},
         {'label': 'Jambi', 'value': 'Jambi'},
         {'label': 'Jawa Barat', 'value': 'JawaBarat'},
         {'label': 'Jawa Tengah', 'value': 'JawaTengah'},
         {'label': 'Jawa Timur', 'value': 'JawaTimur'},
         {'label': 'Kalimantan Barat', 'value': 'KalimantanBarat'},
         {'label': 'Kalimantan Selatan', 'value': 'KalimantanSelatan'},
         {'label': 'Kalimantan Tengah', 'value': 'KalimantanTengah'},
         {'label': 'Kalimantan Timur', 'value': 'KalimantanTimur'},
         {'label': 'Kalimantan Utara', 'value': 'KalimantanUtara'},
         {'label': 'Kepulauan Riau', 'value': 'KepulauanRiau'},
         {'label': 'Lampung', 'value': 'Lampung'},
         {'label': 'Maluku', 'value': 'Maluku'},
         {'label': 'Maluku Utara', 'value': 'MalukuUtara'},
         {'label': 'Nusa Tenggara Barat', 'value': 'NusaTenggaraBarat'},
         {'label': 'Nusa Tenggara Timur', 'value': 'NusaTenggaraTimur'},
         {'label': 'Papua', 'value': 'Papua'},
         {'label': 'Papua Barat', 'value': 'PapuaBarat'},
         {'label': 'Riau', 'value': 'Riau'},
         {'label': 'Sulawesi Barat', 'value': 'SulawesiBarat'},
         {'label': 'Sulawesi Selatan', 'value': 'SulawesiSelatan'},
         {'label': 'Sulawesi Tengah', 'value': 'SulawesiTengah'},
         {'label': 'Sulawesi Tenggara', 'value': 'SulawesiTenggara'},
         {'label': 'Sulawesi Utara', 'value': 'SulawesiUtara'},
         {'label': 'Sumatera Barat', 'value': 'SumateraBarat'},
         {'label': 'Sumatera Selatan', 'value': 'SumateraSelatan'},
         {'label': 'Sumatera Utara', 'value': 'SumateraUtara'},
]


for i in range(len(options)):
    prov = options[i]['label'].upper().replace(' ', '_')
    link = 'https://data.covid19.go.id/public/api/prov_detail_' + prov + '.json'
    a = requests.get(link)
    print(prov, a.status_code)


data_prov = requests.get('https://data.covid19.go.id/public/api/prov_detail_JAMBI.json')
data = data_prov.json()
data.keys()


df_perprov = pd.DataFrame(data['list_perkembangan'])
df_perprov.tail()


df_perprov['tanggal'] = df_perprov['tanggal'].apply(lambda x: date.fromtimestamp(x/1000))

df_perprov.tail()


akhir = df_perprov.shape[0]

kasus = df_perprov['AKUMULASI_KASUS'][akhir-1]
perawatan = df_perprov['AKUMULASI_DIRAWAT_OR_ISOLASI'][akhir-1]
sembuh = df_perprov['AKUMULASI_SEMBUH'][akhir-1]
meninggal = df_perprov['AKUMULASI_MENINGGAL'][akhir-1]


data['list_perkembangan'][-1]


data['list_perkembangan'][-1]['AKUMULASI_SEMBUH']


data['last_date']


data['provinsi']


data['kasus_total']


data['kasus_tanpa_tgl']


data['kasus_dengan_tgl']


data['meninggal_persen']


data['data']['sembuh']


data['sembuh_persen']


data['data'].keys()


data['data']['last_update']


data['data']['perawatan']


data['data']['meninggal']


data['data']['sembuh']


data['data']['kasus']


data['data']['kasus'].keys()


def plot_bar(df, title):
    df.plot(
        kind='bar',
        x='key',
        y='doc_count',
        figsize=(12,6),
        title=title,
        legend=False,
        xlabel='',
        ylabel='Persen (%)',
        rot=45,
    )

def plot_pie(df, title):
    df.plot(
        kind='pie',
        x='key',
        y='doc_count',
        figsize=(12,6),
        title=title,
        ylabel='',
        legend=False,
        autopct='%1.1f%%'
    )





jumlah_data_gejala = data['data']['kasus']['gejala']['current_data']
print(jumlah_data_gejala)

list_data_gejala = pd.DataFrame(data['data']['kasus']['gejala']['list_data'])
list_data_gejala


plot_bar(list_data_gejala, 'Gejala Positif Covid-19')


n_umur = data['data']['kasus']['kelompok_umur']['current_data']
print('Jumlah data', n_umur)
df_umur = pd.DataFrame(data['data']['kasus']['kelompok_umur']['list_data'])
df_umur.set_index('key', inplace=True)
df_umur


plot_pie(df_umur, 'Kelompok Umur Positif Covid-19')


data['data']['kasus']['jenis_kelamin']

n_jeniskelamin = data['data']['kasus']['jenis_kelamin']['current_data']
df_jk = pd.DataFrame(data['data']['kasus']['jenis_kelamin']['list_data'])
df_jk.set_index('key', inplace=True)

print('Jumlah data per jenis kelamin:', n_jeniskelamin)
df_jk


plot_pie(df_jk, 'Jenis Kelamin Positif Covid-19')


data['data']['kasus']['kondisi_penyerta']

n_kondisi_penyerta = data['data']['kasus']['kondisi_penyerta']['current_data']
df_kp = pd.DataFrame(data['data']['kasus']['kondisi_penyerta']['list_data'])

print('Jumlah data kondisi penyerta:', n_kondisi_penyerta)
df_kp


plot_bar(df_kp, 'Kondisi Penyerta Positif Covid-19')


for i in range(len(options)):
    prov = options[i]['label'].upper().replace(' ', '_')
    link = 'https://data.covid19.go.id/public/api/prov_detail_' + prov + '.json'
    a = requests.get(link)
    print(prov, a.status_code)


! pip install geopandas


import geopandas as gpd

provinsi = gpd.read_file('/content/sample_data/indonesia.geojson')
provinsi.index = provinsi.state
provinsi.head()


provinsi.crs


import plotly.express as px

fig = px.choropleth_mapbox(provinsi, 
                           geojson=provinsi.geometry, 
                           color='id_1',
                           locations='state',
                           center={'lat': -0.789275, 'lon': 118.0148634},
                           mapbox_style='carto-positron', 
                           hover_name='state',
                        #    hover_data=[]
                           zoom=3.9)
fig.show()


df_prov = pd.DataFrame()
df_prov
df_prov = df_prov.append({
    'State': 'Jambi',
    'Positif': 782,
    'Meninggal': 893
}, ignore_index=True)

df_prov





df_prov = pd.DataFrame()

for i in range(len(options)):
    prov = options[i]['label'].upper().replace(' ', '_')
    link = 'https://data.covid19.go.id/public/api/prov_detail_' + prov + '.json'
    a = requests.get(link)
    data = a.json()

    df_perprov = pd.DataFrame(data['list_perkembangan'])
    df_perprov['tanggal'] = df_perprov['tanggal'].apply(lambda x: date.fromtimestamp(x/1000))

    akhir = df_perprov.shape[0]

    kasus = df_perprov['AKUMULASI_KASUS'][akhir-1]
    perawatan = df_perprov['AKUMULASI_DIRAWAT_OR_ISOLASI'][akhir-1]
    sembuh = df_perprov['AKUMULASI_SEMBUH'][akhir-1]
    meninggal = df_perprov['AKUMULASI_MENINGGAL'][akhir-1]

    df_prov = df_prov.append({
        'provinsi': data['provinsi'],
        'perawatan': perawatan,
        'sembuh': sembuh,
        'meninggal': meninggal,
        'kasus': kasus
        }, ignore_index=True)

df_prov.index=df_prov.provinsi
df_prov.head()
    


for i in df_prov['provinsi']:
    print(i)


for i in provinsi['state']:
    print(i)


import geopandas as gpd

provinsi = gpd.read_file('/content/sample_data/indonesia.geojson')
provinsi['state'] = provinsi['state'].apply(lambda x: x.upper())
provinsi.index = provinsi.state
provinsi.head()


provinsi.at['BANGKA-BELITUNG', 'state'] = 'KEPULAUAN BANGKA BELITUNG'
provinsi.at['JAKARTA RAYA', 'state'] = 'DKI JAKARTA'
provinsi.at['YOGYAKARTA', 'state'] = 'DAERAH ISTIMEWA YOGYAKARTA'

provinsi.index = provinsi.state
provinsi


import plotly.express as px

fig = px.choropleth_mapbox(df_prov, 
                           geojson=provinsi.geometry, 
                           color='kasus',
                           locations='provinsi',
                           center={'lat': -0.789275, 'lon': 118.0148634},
                           mapbox_style='carto-positron', 
                           hover_name='provinsi',
                           hover_data=['provinsi', 'kasus', 'perawatan', 'sembuh', 'meninggal'],
                           zoom=3.9)
fig.show()
