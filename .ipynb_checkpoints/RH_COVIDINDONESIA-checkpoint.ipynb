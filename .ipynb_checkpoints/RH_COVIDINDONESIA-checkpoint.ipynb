{
 "cells": [
  {
   "cell_type": "markdown",
   "id": "b2b46748-081e-4617-ae33-c01c8e873d00",
   "metadata": {},
   "source": [
    "- death percentage by infected\n",
    "- percent population infected\n"
   ]
  },
  {
   "cell_type": "code",
   "execution_count": 1,
   "id": "e134ced4-528c-4591-af36-1002f3880d33",
   "metadata": {},
   "outputs": [],
   "source": [
    "import requests\n",
    "\n",
    "read = requests.get('https://data.covid19.go.id/public/api/update.json')"
   ]
  },
  {
   "cell_type": "code",
   "execution_count": 2,
   "id": "3d40b213-bc43-449a-b70e-a4193681a2fc",
   "metadata": {},
   "outputs": [
    {
     "data": {
      "text/plain": [
       "{'Server': 'nginx', 'Date': 'Sat, 14 Aug 2021 11:14:32 GMT', 'Content-Type': 'application/json', 'Transfer-Encoding': 'chunked', 'Connection': 'keep-alive', 'Vary': 'Accept-Encoding, Accept-Encoding', 'Last-Modified': 'Sat, 14 Aug 2021 11:14:04 GMT', 'ETag': 'W/\"6117a57c-3223d\"', 'X-Content-Type-Options': 'nosniff, nosniff', 'X-XSS-Protection': '1; mode=block, 1; mode=block', 'Strict-Transport-Security': 'max-age=31536000; includeSubDomains; preload', 'Content-Encoding': 'gzip'}"
      ]
     },
     "execution_count": 2,
     "metadata": {},
     "output_type": "execute_result"
    }
   ],
   "source": [
    "read.headers"
   ]
  },
  {
   "cell_type": "code",
   "execution_count": 3,
   "id": "57f8ecb9-ddd9-49cb-9254-3ccd2dfdab2c",
   "metadata": {},
   "outputs": [
    {
     "data": {
      "text/plain": [
       "dict_keys(['data', 'update'])"
      ]
     },
     "execution_count": 3,
     "metadata": {},
     "output_type": "execute_result"
    }
   ],
   "source": [
    "data = read.json()\n",
    "data.keys()"
   ]
  },
  {
   "cell_type": "code",
   "execution_count": 4,
   "id": "0e5448a3-97fd-402d-bd5f-8aed3dadb9bd",
   "metadata": {},
   "outputs": [
    {
     "data": {
      "text/plain": [
       "{'id': 1,\n",
       " 'jumlah_odp': 308852,\n",
       " 'jumlah_pdp': 0,\n",
       " 'total_spesimen': 28966108,\n",
       " 'total_spesimen_negatif': 20156355}"
      ]
     },
     "execution_count": 4,
     "metadata": {},
     "output_type": "execute_result"
    }
   ],
   "source": [
    "data['data']"
   ]
  },
  {
   "cell_type": "code",
   "execution_count": 5,
   "id": "152b966a-96ba-45d9-9687-8692058b7c0e",
   "metadata": {},
   "outputs": [
    {
     "data": {
      "text/plain": [
       "dict_keys(['penambahan', 'harian', 'total'])"
      ]
     },
     "execution_count": 5,
     "metadata": {},
     "output_type": "execute_result"
    }
   ],
   "source": [
    "data_update = data['update']\n",
    "data_update.keys()"
   ]
  },
  {
   "cell_type": "code",
   "execution_count": 6,
   "id": "c93f1c4f-df82-4282-9688-6d8a7ccd349e",
   "metadata": {},
   "outputs": [
    {
     "data": {
      "text/plain": [
       "{'jumlah_positif': 28598,\n",
       " 'jumlah_meninggal': 1270,\n",
       " 'jumlah_sembuh': 31880,\n",
       " 'jumlah_dirawat': -4552,\n",
       " 'tanggal': '2021-08-14',\n",
       " 'created': '2021-08-14 18:12:27'}"
      ]
     },
     "execution_count": 6,
     "metadata": {},
     "output_type": "execute_result"
    }
   ],
   "source": [
    "data_update['penambahan']"
   ]
  },
  {
   "cell_type": "code",
   "execution_count": 7,
   "id": "b7240de8-9844-4e28-ad64-6de2b28012fb",
   "metadata": {},
   "outputs": [
    {
     "data": {
      "text/plain": [
       "{'jumlah_positif': 3833541,\n",
       " 'jumlah_dirawat': 395577,\n",
       " 'jumlah_sembuh': 3321598,\n",
       " 'jumlah_meninggal': 116366}"
      ]
     },
     "execution_count": 7,
     "metadata": {},
     "output_type": "execute_result"
    }
   ],
   "source": [
    "data_update['total']"
   ]
  },
  {
   "cell_type": "code",
   "execution_count": 8,
   "id": "252e5f41-10fd-4c21-ba8a-2e88aa03bb91",
   "metadata": {},
   "outputs": [
    {
     "data": {
      "text/plain": [
       "531"
      ]
     },
     "execution_count": 8,
     "metadata": {},
     "output_type": "execute_result"
    }
   ],
   "source": [
    "# stelah di cek, data_update['harian'] berbentuk list dengan setiap elemennya adalah dictionary\n",
    "len(data_update['harian'])"
   ]
  },
  {
   "cell_type": "code",
   "execution_count": 9,
   "id": "468291cd-2f81-48a1-b846-a32443fee5b9",
   "metadata": {},
   "outputs": [
    {
     "data": {
      "text/html": [
       "<div>\n",
       "<style scoped>\n",
       "    .dataframe tbody tr th:only-of-type {\n",
       "        vertical-align: middle;\n",
       "    }\n",
       "\n",
       "    .dataframe tbody tr th {\n",
       "        vertical-align: top;\n",
       "    }\n",
       "\n",
       "    .dataframe thead th {\n",
       "        text-align: right;\n",
       "    }\n",
       "</style>\n",
       "<table border=\"1\" class=\"dataframe\">\n",
       "  <thead>\n",
       "    <tr style=\"text-align: right;\">\n",
       "      <th></th>\n",
       "      <th>key_as_string</th>\n",
       "      <th>key</th>\n",
       "      <th>doc_count</th>\n",
       "      <th>jumlah_meninggal</th>\n",
       "      <th>jumlah_sembuh</th>\n",
       "      <th>jumlah_positif</th>\n",
       "      <th>jumlah_dirawat</th>\n",
       "      <th>jumlah_positif_kum</th>\n",
       "      <th>jumlah_sembuh_kum</th>\n",
       "      <th>jumlah_meninggal_kum</th>\n",
       "      <th>jumlah_dirawat_kum</th>\n",
       "    </tr>\n",
       "  </thead>\n",
       "  <tbody>\n",
       "    <tr>\n",
       "      <th>0</th>\n",
       "      <td>2020-03-02T00:00:00.000Z</td>\n",
       "      <td>1583107200000</td>\n",
       "      <td>1</td>\n",
       "      <td>{'value': 0}</td>\n",
       "      <td>{'value': 0}</td>\n",
       "      <td>{'value': 2}</td>\n",
       "      <td>{'value': 2}</td>\n",
       "      <td>{'value': 2}</td>\n",
       "      <td>{'value': 0}</td>\n",
       "      <td>{'value': 0}</td>\n",
       "      <td>{'value': 2}</td>\n",
       "    </tr>\n",
       "    <tr>\n",
       "      <th>1</th>\n",
       "      <td>2020-03-03T00:00:00.000Z</td>\n",
       "      <td>1583193600000</td>\n",
       "      <td>1</td>\n",
       "      <td>{'value': 0}</td>\n",
       "      <td>{'value': 0}</td>\n",
       "      <td>{'value': 0}</td>\n",
       "      <td>{'value': 0}</td>\n",
       "      <td>{'value': 2}</td>\n",
       "      <td>{'value': 0}</td>\n",
       "      <td>{'value': 0}</td>\n",
       "      <td>{'value': 2}</td>\n",
       "    </tr>\n",
       "    <tr>\n",
       "      <th>2</th>\n",
       "      <td>2020-03-04T00:00:00.000Z</td>\n",
       "      <td>1583280000000</td>\n",
       "      <td>1</td>\n",
       "      <td>{'value': 0}</td>\n",
       "      <td>{'value': 0}</td>\n",
       "      <td>{'value': 0}</td>\n",
       "      <td>{'value': 0}</td>\n",
       "      <td>{'value': 2}</td>\n",
       "      <td>{'value': 0}</td>\n",
       "      <td>{'value': 0}</td>\n",
       "      <td>{'value': 2}</td>\n",
       "    </tr>\n",
       "    <tr>\n",
       "      <th>3</th>\n",
       "      <td>2020-03-05T00:00:00.000Z</td>\n",
       "      <td>1583366400000</td>\n",
       "      <td>1</td>\n",
       "      <td>{'value': 0}</td>\n",
       "      <td>{'value': 0}</td>\n",
       "      <td>{'value': 0}</td>\n",
       "      <td>{'value': 0}</td>\n",
       "      <td>{'value': 2}</td>\n",
       "      <td>{'value': 0}</td>\n",
       "      <td>{'value': 0}</td>\n",
       "      <td>{'value': 2}</td>\n",
       "    </tr>\n",
       "    <tr>\n",
       "      <th>4</th>\n",
       "      <td>2020-03-06T00:00:00.000Z</td>\n",
       "      <td>1583452800000</td>\n",
       "      <td>1</td>\n",
       "      <td>{'value': 0}</td>\n",
       "      <td>{'value': 0}</td>\n",
       "      <td>{'value': 2}</td>\n",
       "      <td>{'value': 2}</td>\n",
       "      <td>{'value': 4}</td>\n",
       "      <td>{'value': 0}</td>\n",
       "      <td>{'value': 0}</td>\n",
       "      <td>{'value': 4}</td>\n",
       "    </tr>\n",
       "  </tbody>\n",
       "</table>\n",
       "</div>"
      ],
      "text/plain": [
       "              key_as_string            key  doc_count jumlah_meninggal  \\\n",
       "0  2020-03-02T00:00:00.000Z  1583107200000          1     {'value': 0}   \n",
       "1  2020-03-03T00:00:00.000Z  1583193600000          1     {'value': 0}   \n",
       "2  2020-03-04T00:00:00.000Z  1583280000000          1     {'value': 0}   \n",
       "3  2020-03-05T00:00:00.000Z  1583366400000          1     {'value': 0}   \n",
       "4  2020-03-06T00:00:00.000Z  1583452800000          1     {'value': 0}   \n",
       "\n",
       "  jumlah_sembuh jumlah_positif jumlah_dirawat jumlah_positif_kum  \\\n",
       "0  {'value': 0}   {'value': 2}   {'value': 2}       {'value': 2}   \n",
       "1  {'value': 0}   {'value': 0}   {'value': 0}       {'value': 2}   \n",
       "2  {'value': 0}   {'value': 0}   {'value': 0}       {'value': 2}   \n",
       "3  {'value': 0}   {'value': 0}   {'value': 0}       {'value': 2}   \n",
       "4  {'value': 0}   {'value': 2}   {'value': 2}       {'value': 4}   \n",
       "\n",
       "  jumlah_sembuh_kum jumlah_meninggal_kum jumlah_dirawat_kum  \n",
       "0      {'value': 0}         {'value': 0}       {'value': 2}  \n",
       "1      {'value': 0}         {'value': 0}       {'value': 2}  \n",
       "2      {'value': 0}         {'value': 0}       {'value': 2}  \n",
       "3      {'value': 0}         {'value': 0}       {'value': 2}  \n",
       "4      {'value': 0}         {'value': 0}       {'value': 4}  "
      ]
     },
     "execution_count": 9,
     "metadata": {},
     "output_type": "execute_result"
    }
   ],
   "source": [
    "# membuat dataframe\n",
    "import pandas as pd\n",
    "\n",
    "df = pd.DataFrame(data_update['harian'])\n",
    "df.head()"
   ]
  },
  {
   "cell_type": "code",
   "execution_count": 10,
   "id": "811ea9d8-40fa-4234-9edb-d8ce9c4f0772",
   "metadata": {},
   "outputs": [
    {
     "name": "stdout",
     "output_type": "stream",
     "text": [
      "<class 'pandas.core.frame.DataFrame'>\n",
      "RangeIndex: 531 entries, 0 to 530\n",
      "Data columns (total 11 columns):\n",
      " #   Column                Non-Null Count  Dtype \n",
      "---  ------                --------------  ----- \n",
      " 0   key_as_string         531 non-null    object\n",
      " 1   key                   531 non-null    int64 \n",
      " 2   doc_count             531 non-null    int64 \n",
      " 3   jumlah_meninggal      531 non-null    object\n",
      " 4   jumlah_sembuh         531 non-null    object\n",
      " 5   jumlah_positif        531 non-null    object\n",
      " 6   jumlah_dirawat        531 non-null    object\n",
      " 7   jumlah_positif_kum    531 non-null    object\n",
      " 8   jumlah_sembuh_kum     531 non-null    object\n",
      " 9   jumlah_meninggal_kum  531 non-null    object\n",
      " 10  jumlah_dirawat_kum    531 non-null    object\n",
      "dtypes: int64(2), object(9)\n",
      "memory usage: 45.8+ KB\n"
     ]
    }
   ],
   "source": [
    "df.info()"
   ]
  },
  {
   "cell_type": "code",
   "execution_count": 16,
   "id": "294ba801-3655-497a-be5f-c3b64685157c",
   "metadata": {},
   "outputs": [],
   "source": [
    "# ekstrak value dari dictionary\n",
    "v_ekstrak = ['jumlah_meninggal', 'jumlah_sembuh', 'jumlah_positif', 'jumlah_dirawat', \n",
    "             'jumlah_positif_kum', 'jumlah_sembuh_kum', 'jumlah_meninggal_kum', 'jumlah_dirawat_kum']\n",
    "\n",
    "for i in v_ekstrak:\n",
    "    df[i] = (\n",
    "        df[i]\n",
    "        .apply(lambda x: x['value'])\n",
    "    )"
   ]
  },
  {
   "cell_type": "code",
   "execution_count": 17,
   "id": "beb12bd0-e190-4ed9-91e2-5048305748c0",
   "metadata": {},
   "outputs": [
    {
     "data": {
      "text/html": [
       "<div>\n",
       "<style scoped>\n",
       "    .dataframe tbody tr th:only-of-type {\n",
       "        vertical-align: middle;\n",
       "    }\n",
       "\n",
       "    .dataframe tbody tr th {\n",
       "        vertical-align: top;\n",
       "    }\n",
       "\n",
       "    .dataframe thead th {\n",
       "        text-align: right;\n",
       "    }\n",
       "</style>\n",
       "<table border=\"1\" class=\"dataframe\">\n",
       "  <thead>\n",
       "    <tr style=\"text-align: right;\">\n",
       "      <th></th>\n",
       "      <th>key_as_string</th>\n",
       "      <th>key</th>\n",
       "      <th>doc_count</th>\n",
       "      <th>jumlah_meninggal</th>\n",
       "      <th>jumlah_sembuh</th>\n",
       "      <th>jumlah_positif</th>\n",
       "      <th>jumlah_dirawat</th>\n",
       "      <th>jumlah_positif_kum</th>\n",
       "      <th>jumlah_sembuh_kum</th>\n",
       "      <th>jumlah_meninggal_kum</th>\n",
       "      <th>jumlah_dirawat_kum</th>\n",
       "    </tr>\n",
       "  </thead>\n",
       "  <tbody>\n",
       "    <tr>\n",
       "      <th>0</th>\n",
       "      <td>2020-03-02T00:00:00.000Z</td>\n",
       "      <td>1583107200000</td>\n",
       "      <td>1</td>\n",
       "      <td>0</td>\n",
       "      <td>0</td>\n",
       "      <td>2</td>\n",
       "      <td>2</td>\n",
       "      <td>2</td>\n",
       "      <td>0</td>\n",
       "      <td>0</td>\n",
       "      <td>2</td>\n",
       "    </tr>\n",
       "    <tr>\n",
       "      <th>1</th>\n",
       "      <td>2020-03-03T00:00:00.000Z</td>\n",
       "      <td>1583193600000</td>\n",
       "      <td>1</td>\n",
       "      <td>0</td>\n",
       "      <td>0</td>\n",
       "      <td>0</td>\n",
       "      <td>0</td>\n",
       "      <td>2</td>\n",
       "      <td>0</td>\n",
       "      <td>0</td>\n",
       "      <td>2</td>\n",
       "    </tr>\n",
       "    <tr>\n",
       "      <th>2</th>\n",
       "      <td>2020-03-04T00:00:00.000Z</td>\n",
       "      <td>1583280000000</td>\n",
       "      <td>1</td>\n",
       "      <td>0</td>\n",
       "      <td>0</td>\n",
       "      <td>0</td>\n",
       "      <td>0</td>\n",
       "      <td>2</td>\n",
       "      <td>0</td>\n",
       "      <td>0</td>\n",
       "      <td>2</td>\n",
       "    </tr>\n",
       "    <tr>\n",
       "      <th>3</th>\n",
       "      <td>2020-03-05T00:00:00.000Z</td>\n",
       "      <td>1583366400000</td>\n",
       "      <td>1</td>\n",
       "      <td>0</td>\n",
       "      <td>0</td>\n",
       "      <td>0</td>\n",
       "      <td>0</td>\n",
       "      <td>2</td>\n",
       "      <td>0</td>\n",
       "      <td>0</td>\n",
       "      <td>2</td>\n",
       "    </tr>\n",
       "    <tr>\n",
       "      <th>4</th>\n",
       "      <td>2020-03-06T00:00:00.000Z</td>\n",
       "      <td>1583452800000</td>\n",
       "      <td>1</td>\n",
       "      <td>0</td>\n",
       "      <td>0</td>\n",
       "      <td>2</td>\n",
       "      <td>2</td>\n",
       "      <td>4</td>\n",
       "      <td>0</td>\n",
       "      <td>0</td>\n",
       "      <td>4</td>\n",
       "    </tr>\n",
       "  </tbody>\n",
       "</table>\n",
       "</div>"
      ],
      "text/plain": [
       "              key_as_string            key  doc_count  jumlah_meninggal  \\\n",
       "0  2020-03-02T00:00:00.000Z  1583107200000          1                 0   \n",
       "1  2020-03-03T00:00:00.000Z  1583193600000          1                 0   \n",
       "2  2020-03-04T00:00:00.000Z  1583280000000          1                 0   \n",
       "3  2020-03-05T00:00:00.000Z  1583366400000          1                 0   \n",
       "4  2020-03-06T00:00:00.000Z  1583452800000          1                 0   \n",
       "\n",
       "   jumlah_sembuh  jumlah_positif  jumlah_dirawat  jumlah_positif_kum  \\\n",
       "0              0               2               2                   2   \n",
       "1              0               0               0                   2   \n",
       "2              0               0               0                   2   \n",
       "3              0               0               0                   2   \n",
       "4              0               2               2                   4   \n",
       "\n",
       "   jumlah_sembuh_kum  jumlah_meninggal_kum  jumlah_dirawat_kum  \n",
       "0                  0                     0                   2  \n",
       "1                  0                     0                   2  \n",
       "2                  0                     0                   2  \n",
       "3                  0                     0                   2  \n",
       "4                  0                     0                   4  "
      ]
     },
     "execution_count": 17,
     "metadata": {},
     "output_type": "execute_result"
    }
   ],
   "source": [
    "df.head()"
   ]
  },
  {
   "cell_type": "code",
   "execution_count": null,
   "id": "5d804dc2-0078-4741-89d8-2c99e9e52763",
   "metadata": {},
   "outputs": [],
   "source": [
    "# coba plot"
   ]
  },
  {
   "cell_type": "code",
   "execution_count": null,
   "id": "088d3bf3-5a81-4217-b6c9-162658f0ab7e",
   "metadata": {},
   "outputs": [],
   "source": []
  },
  {
   "cell_type": "code",
   "execution_count": 57,
   "id": "331ca7d1-6ec5-4599-b8e4-a6f0bf85239a",
   "metadata": {},
   "outputs": [],
   "source": [
    "# fungsi cek key dictionary\n",
    "def cek_key(dictionary, value=False):\n",
    "    '''\n",
    "    cek key dari dictionary, value adalah kondisi apakah ingin menampilkan jumlah dari data key\n",
    "    '''\n",
    "    \n",
    "    if value:\n",
    "        for key, val in dictionary.items():\n",
    "            print(key, '->', len(val))\n",
    "    else:\n",
    "        if type(dictionary) == list:\n",
    "            print('len:', len(dictionary))\n",
    "            print()\n",
    "            print(dictionary[0])\n",
    "        else:\n",
    "            for key in dictionary.keys():\n",
    "                print(key)"
   ]
  },
  {
   "cell_type": "code",
   "execution_count": null,
   "id": "65eeba30-7936-4f33-9591-eab9e16727a7",
   "metadata": {},
   "outputs": [],
   "source": []
  },
  {
   "cell_type": "code",
   "execution_count": null,
   "id": "b1590e87-5c88-4c2b-b3e9-4fb5c60c2d16",
   "metadata": {},
   "outputs": [],
   "source": []
  },
  {
   "cell_type": "code",
   "execution_count": null,
   "id": "2fcaca0e-a1f9-43eb-b8a3-74c9387498d6",
   "metadata": {},
   "outputs": [],
   "source": []
  }
 ],
 "metadata": {
  "kernelspec": {
   "display_name": "Python 3",
   "language": "python",
   "name": "python3"
  },
  "language_info": {
   "codemirror_mode": {
    "name": "ipython",
    "version": 3
   },
   "file_extension": ".py",
   "mimetype": "text/x-python",
   "name": "python",
   "nbconvert_exporter": "python",
   "pygments_lexer": "ipython3",
   "version": "3.8.5"
  }
 },
 "nbformat": 4,
 "nbformat_minor": 5
}
